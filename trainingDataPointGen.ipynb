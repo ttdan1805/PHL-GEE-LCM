{
 "cells": [
  {
   "cell_type": "markdown",
   "metadata": {
    "colab_type": "text",
    "id": "view-in-github"
   },
   "source": [
    "<a href=\"https://colab.research.google.com/github/heromiya/GEE-LCM/blob/master/trainingDataPointGen.ipynb\" target=\"_parent\"><img src=\"https://colab.research.google.com/assets/colab-badge.svg\" alt=\"Open In Colab\"/></a>"
   ]
  },
  {
   "cell_type": "code",
   "execution_count": null,
   "metadata": {
    "id": "nYlTqMkjgWYn"
   },
   "outputs": [],
   "source": [
    "!rm -rf GEE-LCM && git clone https://github.com/heromiya/GEE-LCM.git"
   ]
  },
  {
   "cell_type": "code",
   "execution_count": null,
   "metadata": {
    "id": "FwlBuFZyggCu"
   },
   "outputs": [],
   "source": [
    "!apt update && apt install spatialite-bin grass parallel zip gdal-bin"
   ]
  },
  {
   "cell_type": "code",
   "execution_count": null,
   "metadata": {
    "id": "0zffGK-nhMPx"
   },
   "outputs": [],
   "source": [
    "# bash merge-traningdata.sh -b [Starting year] -e [Ending year] --pmin [minimum path number] --pmax [maximum path number] --rmin [minimum row number] --rmax [maximum row number] -1 [# of samples for Class 1 (waterbody)] -2 [# of samples for Class 2 (vegetation)] -3 [# of samples for Class 3 (bare land)] -4 [# of samples for Class 4 (built-up)]\n",
    "# 0.00025 is equal to 30 meters.\n",
    "!cd GEE-LCM && bash merge-trainingdata.sh -b 1900 -e 2100 --pmin 0 --pmax 999 --rmin 0 --rmax 999 -r 0.00025 -1 2500 -2 2500 -3 2500 -4 2500"
   ]
  }
 ],
 "metadata": {
  "colab": {
   "include_colab_link": true,
   "name": "GEE-LCM",
   "provenance": []
  },
  "kernelspec": {
   "display_name": "Python 3 (ipykernel)",
   "language": "python",
   "name": "python3"
  },
  "language_info": {
   "codemirror_mode": {
    "name": "ipython",
    "version": 3
   },
   "file_extension": ".py",
   "mimetype": "text/x-python",
   "name": "python",
   "nbconvert_exporter": "python",
   "pygments_lexer": "ipython3",
   "version": "3.11.6"
  }
 },
 "nbformat": 4,
 "nbformat_minor": 4
}
