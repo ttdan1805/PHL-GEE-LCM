{
 "cells": [
  {
   "cell_type": "markdown",
   "metadata": {
    "colab_type": "text",
    "id": "view-in-github"
   },
   "source": [
    "<a href=\"https://colab.research.google.com/github/heromiya/GEE-LCM/blob/master/Landcover_using_ANN.ipynb\" target=\"_parent\"><img src=\"https://colab.research.google.com/assets/colab-badge.svg\" alt=\"Open In Colab\"/></a>"
   ]
  },
  {
   "cell_type": "code",
   "execution_count": 1,
   "metadata": {
    "id": "v0IvUmXNXR_r"
   },
   "outputs": [],
   "source": [
    "import ee\n",
    "ee.Authenticate()\n",
    "ee.Initialize(project='ee-heromiya')"
   ]
  },
  {
   "cell_type": "code",
   "execution_count": 1,
   "metadata": {
    "id": "GS7jU7nPXugj"
   },
   "outputs": [
    {
     "name": "stderr",
     "output_type": "stream",
     "text": [
      "2024-01-15 09:26:50.813814: I tensorflow/core/platform/cpu_feature_guard.cc:182] This TensorFlow binary is optimized to use available CPU instructions in performance-critical operations.\n",
      "To enable the following instructions: SSE4.1 SSE4.2 AVX AVX2 AVX512F FMA, in other operations, rebuild TensorFlow with the appropriate compiler flags.\n"
     ]
    }
   ],
   "source": [
    "import os\n",
    "import glob\n",
    "import shutil\n",
    "import time\n",
    "import json\n",
    "from pprint import pprint\n",
    "\n",
    "import numpy as np\n",
    "import tensorflow as tf\n",
    "import folium\n",
    "\n",
    "from osgeo import gdal\n",
    "from osgeo import osr\n",
    "import matplotlib.pyplot as plt"
   ]
  },
  {
   "cell_type": "code",
   "execution_count": 2,
   "metadata": {
    "id": "E65NwWoEYUhW"
   },
   "outputs": [],
   "source": [
    "def reduce_class_value(feat):\n",
    "  return feat.set('class', ee.Number(feat.get('class')).subtract(1))\n",
    "\n",
    "def cloudMask(img):\n",
    "  return img.updateMask(img.select('BQA').lt(64))\n",
    "\n",
    "def select_landsat(year):\n",
    "  if (year >= 2013):\n",
    "    return {\n",
    "        'bands': ['B2', 'B3', 'B4', 'B5', 'B6', 'B7'],\n",
    "        'FCCbands': ['B5', 'B4', 'B3'],\n",
    "        'TextureBand': ['B5'],\n",
    "        'bandsClassify': ['B2', 'B3', 'B4', 'B5', 'B6', 'B7','B5_1'],\n",
    "        'Landsat': 'LANDSAT/LC08/C01/T1'\n",
    "    }\n",
    "\n",
    "  if (year >= 1999 and year <= 2002):\n",
    "    return {\n",
    "        'bands': ['B1', 'B2', 'B3', 'B4', 'B5', 'B7'],\n",
    "        'TextureBand': ['B4'],\n",
    "        'bandsClassify': ['B1', 'B2', 'B3', 'B4', 'B5', 'B7','B4_1'],\n",
    "        'FCCbands': ['B4', 'B3', 'B2'],\n",
    "        'Landsat': 'LANDSAT/LE07/C01/T1'\n",
    "    }\n",
    "\n",
    "  if (year >= 1984 and year <= 1998 or year >=2003 and year <=2012):\n",
    "    return{\n",
    "        'bands': ['B1', 'B2', 'B3', 'B4', 'B5', 'B7'],\n",
    "        'bandsClassify': ['B1', 'B2', 'B3', 'B4', 'B5', 'B7','B4_1'],\n",
    "        'FCCbands': ['B4', 'B3', 'B2'],\n",
    "        'TextureBand': ['B4'],\n",
    "        'Landsat': 'LANDSAT/LT05/C01/T1'\n",
    "    }\n",
    "  \n",
    "  if (year == 1983):\n",
    "    return{\n",
    "        'bands': ['B1', 'B2', 'B3', 'B4', 'B5', 'B7'],\n",
    "        'bandsClassify': ['B1', 'B2', 'B3', 'B4', 'B5', 'B7','B4_1'],\n",
    "        'FCCbands': ['B4', 'B3', 'B2'],\n",
    "        'TextureBand': ['B4'],\n",
    "        'Landsat': 'LANDSAT/LT04/C01/T1'\n",
    "    }\n",
    "  \n",
    "  if (year >= 1979 and year <= 1982):\n",
    "    return {\n",
    "        'bands':         ['B4_median', 'B5_median', 'B6_median','B7_median'],\n",
    "        'bandsClassify': ['B4_median', 'B5_median', 'B6_median','B7_median','B6_median_1'],\n",
    "        'FCCbands':      ['B6_median', 'B5_median', 'B4_median'],\n",
    "        'TextureBand':   ['B6_median'],\n",
    "        'Landsat': 'LANDSAT/LM03/C01/T1'\n",
    "    }\n",
    "\n",
    "  if (year >= 1975 and year <= 1978):\n",
    "    return {\n",
    "        'bands':         ['B4_median', 'B5_median', 'B6_median','B7_median'],\n",
    "        'bandsClassify': ['B4_median', 'B5_median', 'B6_median','B7_median','B6_median_1'],\n",
    "        'FCCbands':      ['B6_median', 'B5_median', 'B4_median'],\n",
    "        'TextureBand':   ['B6_median'],\n",
    "        'Landsat': 'LANDSAT/LM02/C01/T2'\n",
    "    }\n",
    "\n",
    "  if (year >= 1972 and year <= 1974):\n",
    "    return {\n",
    "        'bands':         ['B4_median', 'B5_median', 'B6_median','B7_median'],\n",
    "        'bandsClassify': ['B4_median', 'B5_median', 'B6_median','B7_median','B6_median_1'],\n",
    "        'FCCbands':      ['B6_median', 'B5_median', 'B4_median'],\n",
    "        'TextureBand':   ['B6_median'],\n",
    "        'Landsat': 'LANDSAT/LM01/C01/T2'\n",
    "    }"
   ]
  },
  {
   "cell_type": "code",
   "execution_count": 3,
   "metadata": {
    "id": "7FtYc9uPaFFr"
   },
   "outputs": [],
   "source": [
    "def landsat_product(landsat_params):\n",
    "  landsat_id = landsat_params['Landsat']\n",
    "  if(landsat_id == 'LANDSAT/LM01/C01/T2' or landsat_id == 'LANDSAT/LM02/C01/T2' or landsat_id == 'LANDSAT/LM03/C01/T1'):\n",
    "    image = ee.ImageCollection(landsat_id).filterDate(str(gtYearBegin) + '-01-01',str(gtYearEnd) + '-12-31').filter(ROI[roi]['doyFilterLandsat']).filterBounds(out_ext).filterMetadata('CLOUD_COVER_LAND', 'less_than', 20).map(cloudMask).reduce(ee.Reducer.median())\n",
    "    return {\n",
    "      'region': image.geometry().bounds().getInfo(),\n",
    "      'image': image,\n",
    "      'image_int': image.toByte()       \n",
    "    }\n",
    "  else:\n",
    "    image_col = ee.ImageCollection(landsat_id).filterDate(str(gtYearBegin) + '-01-01',str(gtYearEnd) + '-12-31').filter(ROI[roi]['doyFilterLandsat']).filterBounds(out_ext)\n",
    "    return {\n",
    "      'region': image_col.geometry().bounds().getInfo(),\n",
    "      'image': ee.Algorithms.Landsat.simpleComposite(image_col, 50, cloud, 40, True).select(landsat_params['bands']),\n",
    "      'image_int': ee.Algorithms.Landsat.simpleComposite(image_col, 50, cloud, 40, False).select(landsat_params['bands'])\n",
    "  }"
   ]
  },
  {
   "cell_type": "code",
   "execution_count": 4,
   "metadata": {
    "id": "qM6ZiXv9aHHS"
   },
   "outputs": [],
   "source": [
    "def add_indices(params, product):\n",
    "  L = params['Landsat']\n",
    "  if(L =='LANDSAT/LC08/C01/T1'):\n",
    "    swir  = product['image'].select('B6')\n",
    "    nir   = product['image'].select('B5')\n",
    "    red   = product['image'].select('B4')\n",
    "    green = product['image'].select('B3')\n",
    "\n",
    "  if(L == 'LANDSAT/LE07/C01/T1'):\n",
    "    swir  = product['image'].select('B5')\n",
    "    nir   = product['image'].select('B4')\n",
    "    red   = product['image'].select('B3')\n",
    "    green = product['image'].select('B2')\n",
    "\n",
    "  if(L == 'LANDSAT/LM04/C01/T1' or L == 'LANDSAT/LT05/C01/T1'):\n",
    "    swir  = product['image'].select('B5')\n",
    "    nir   = product['image'].select('B4')\n",
    "    red   = product['image'].select('B3')\n",
    "    green = product['image'].select('B2')\n",
    "\n",
    "  ndvi  = nir.subtract(red).divide(nir.add(red))\n",
    "  ndbi  = swir.subtract(nir).divide(swir.add(nir))\n",
    "  bi    = ndbi.subtract(ndvi)\n",
    "  ndwi  = green.subtract(swir).divide(green.add(swir))\n",
    "\n",
    "  product['image'] = product['image'].addBands([ndvi, ndbi, bi, ndwi])\n",
    "  product['image'] = product['image'].rename(ee.List(params['bands'] + ['ndvi','ndbi','bi','ndwi']))\n",
    "  params['bandsClassify'].extend(['ndvi', 'ndbi', 'bi', 'ndwi'])\n",
    "\n",
    "def add_indices_mss(params, product):\n",
    "  nir = product['image'].select('B6_median')\n",
    "  red = product['image'].select('B5_median')\n",
    "  ndvi = nir.subtract(red).divide(nir.add(red))\n",
    "\n",
    "  product['image'] = product['image'].addBands(ndvi)\n",
    "  product['image'] = product['image'].rename(ee.List(params['bands'] + ['ndvi']))\n",
    "  params['bandsClassify'].append('ndvi')\n",
    "  "
   ]
  },
  {
   "cell_type": "code",
   "execution_count": 7,
   "metadata": {
    "id": "jFiq7qbnhv_y"
   },
   "outputs": [],
   "source": [
    "##### User defined paramters ######\n",
    "import ee\n",
    "ee.Authenticate()\n",
    "ee.Initialize(project='ee-heromiya')\n",
    "\n",
    "ts = time.time()\n",
    "timestamp = int(ts)\n",
    "\n",
    "cloud = 30\n",
    "spatial_resolution = 30\n",
    "n_sample = 10000\n",
    "distance = 370000\n",
    "\n",
    "kernel_size_list = [1, 3, 5, 7, 9]\n",
    "\n",
    "base_distance = 5000\n",
    "patch_size = 256\n",
    "buffer_distance = base_distance * (round((spatial_resolution * 0.5 * patch_size)/base_distance) +1)\n",
    "\n",
    "USER_NAME = 'heromiya'\n",
    "GT_DATA = 'projects/ee-heromiya/assets/gt-pt-bkk-240115'\n",
    "\n",
    "ROI = [\n",
    "       {'cityName': 'Bangkok2', 'LatMax': 14.2206, 'LatMin': 13.4323, 'LonMax': 101.3378, 'LonMin': 99.8742, 'yearBegin':1998, 'yearEnd':2002, \n",
    "        'doyFilter':ee.Filter.And(ee.Filter.greaterThanOrEquals('doy',  1), ee.Filter.lessThanOrEquals('doy',  366)), \n",
    "        'doyFilterLandsat': ee.Filter.dayOfYear(1,366)},\n",
    "]\n",
    "\n",
    "MY_DRIVE_PATH = '/content/drive/MyDrive'\n",
    "SHARED_DRIVE_PATH = '/content/drive/Shareddrives/Miyazaki Lab./' + USER_NAME + '/'\n",
    "OUTPUT_ASSET_ID = 'users/' + USER_NAME + '/demo'"
   ]
  },
  {
   "cell_type": "code",
   "execution_count": 8,
   "metadata": {
    "id": "Yd4ONLeBY09v"
   },
   "outputs": [],
   "source": [
    "roi= ''\n",
    "out_ext = ''\n",
    "\n",
    "for roi in range(0, len(ROI), 1):\n",
    "  city_name = ROI[roi]['cityName']\n",
    "  year_begin = ROI[roi]['yearBegin']\n",
    "  year_end = ROI[roi]['yearEnd']\n",
    "\n",
    "  IMAGE_FILE_PREFIX = city_name + '_' + str(year_begin) + '_' + str(year_end)\n",
    "  FOLDER_NAME = USER_NAME + '_' + IMAGE_FILE_PREFIX + '_' + str(timestamp)\n",
    "  FOLDER_PATH = MY_DRIVE_PATH + '/' + FOLDER_NAME\n",
    "  TRAIN_FILE_PREFIX = 'Training_' + str(timestamp)\n",
    "  TEST_FILE_PREFIX = 'Testing_' + str(timestamp)\n",
    "\n",
    "  file_extension = '.tfrecord.gz'\n",
    "  TRAIN_FILE_PATH =  MY_DRIVE_PATH + '/' + FOLDER_NAME + '/sample/' +TRAIN_FILE_PREFIX + file_extension\n",
    "  TEST_FILE_PATH = MY_DRIVE_PATH + '/' + FOLDER_NAME + '/sample/' + TEST_FILE_PREFIX + file_extension\n",
    "\n",
    "  OUTPUT_IMAGE_TFR = MY_DRIVE_PATH + '/' + FOLDER_NAME + '/'+ IMAGE_FILE_PREFIX+'.TFRecord'\n",
    "  OUTPUT_IMAGE_TIF = MY_DRIVE_PATH + '/' + FOLDER_NAME + '/'+ IMAGE_FILE_PREFIX+'.tif'\n",
    "\n",
    "  for year in range(year_begin, year_end+1, 1):\n",
    "    nSampleClass = []\n",
    "    out_ext = ee.Geometry.Rectangle([ ROI[roi]['LonMin'], ROI[roi]['LatMin'], ROI[roi]['LonMax'], ROI[roi]['LatMax']])\n",
    "    EXPORT_REGION = out_ext\n",
    "    out_ext_center = out_ext.centroid()\n",
    "\n",
    "    out_ext_buffer = out_ext.buffer(buffer_distance).bounds()\n",
    "\n",
    "    center_lat = out_ext_center.getInfo()['coordinates'][1]\n",
    "    center_lon = out_ext_center.getInfo()['coordinates'][0]\n",
    "\n",
    "    landsat_params = select_landsat(year_begin)\n",
    "\n",
    "    gtYearBegin = year_begin\n",
    "    gtYearEnd = year_end\n",
    "\n",
    "    product = landsat_product(landsat_params)\n",
    "\n",
    "    ref_point = ee.FeatureCollection(GT_DATA).map(reduce_class_value)\n",
    "    LABEL_DATA = ref_point.filter(ee.Filter.And(ee.Filter.greaterThanOrEquals('year', gtYearBegin), ee.Filter.lessThanOrEquals('year', gtYearEnd), ROI[roi]['doyFilter']))\n",
    "    LABEL_DATA = LABEL_DATA.filterBounds(product['region'])\n",
    "    if (year_end > 1982):\n",
    "      add_indices(landsat_params, product)\n",
    "    else:\n",
    "      add_indices_mss(landsat_params, product)\n",
    "\n",
    "    gt_image = product['image']\n",
    "    gt_image_texture = product['image_int']\n",
    "    for i in kernel_size_list:\n",
    "      gt_image_texture = gt_image.addBands(product['image_int'].select(landsat_params['TextureBand']).entropy(ee.Kernel.gaussian(i)))\n",
    "\n",
    "\n",
    "    out_image = product['image'].clip(out_ext_buffer)\n",
    "    out_image_texture = product['image_int'].clip(out_ext_buffer)\n",
    "    for i in kernel_size_list:\n",
    "      out_image_texture = out_image.addBands(product['image_int'].clip(out_ext_buffer).select(landsat_params['TextureBand']).entropy(ee.Kernel.gaussian(i)))"
   ]
  },
  {
   "cell_type": "code",
   "execution_count": 9,
   "metadata": {
    "id": "sEufutc9D0CA"
   },
   "outputs": [
    {
     "name": "stdout",
     "output_type": "stream",
     "text": [
      "{'type': 'Image', 'bands': [{'id': 'B1', 'data_type': {'type': 'PixelType', 'precision': 'float'}, 'crs': 'EPSG:4326', 'crs_transform': [1, 0, 0, 0, 1, 0]}, {'id': 'B2', 'data_type': {'type': 'PixelType', 'precision': 'float'}, 'crs': 'EPSG:4326', 'crs_transform': [1, 0, 0, 0, 1, 0]}, {'id': 'B3', 'data_type': {'type': 'PixelType', 'precision': 'float'}, 'crs': 'EPSG:4326', 'crs_transform': [1, 0, 0, 0, 1, 0]}, {'id': 'B4', 'data_type': {'type': 'PixelType', 'precision': 'float'}, 'crs': 'EPSG:4326', 'crs_transform': [1, 0, 0, 0, 1, 0]}, {'id': 'B5', 'data_type': {'type': 'PixelType', 'precision': 'float'}, 'crs': 'EPSG:4326', 'crs_transform': [1, 0, 0, 0, 1, 0]}, {'id': 'B7', 'data_type': {'type': 'PixelType', 'precision': 'float'}, 'crs': 'EPSG:4326', 'crs_transform': [1, 0, 0, 0, 1, 0]}, {'id': 'ndvi', 'data_type': {'type': 'PixelType', 'precision': 'float'}, 'crs': 'EPSG:4326', 'crs_transform': [1, 0, 0, 0, 1, 0]}, {'id': 'ndbi', 'data_type': {'type': 'PixelType', 'precision': 'float'}, 'crs': 'EPSG:4326', 'crs_transform': [1, 0, 0, 0, 1, 0]}, {'id': 'bi', 'data_type': {'type': 'PixelType', 'precision': 'float'}, 'crs': 'EPSG:4326', 'crs_transform': [1, 0, 0, 0, 1, 0]}, {'id': 'ndwi', 'data_type': {'type': 'PixelType', 'precision': 'float'}, 'crs': 'EPSG:4326', 'crs_transform': [1, 0, 0, 0, 1, 0]}]}\n"
     ]
    }
   ],
   "source": [
    "print(gt_image.getInfo())"
   ]
  },
  {
   "cell_type": "code",
   "execution_count": 10,
   "metadata": {
    "id": "keGx5ESeZ4cS"
   },
   "outputs": [],
   "source": [
    "BANDS = landsat_params['bandsClassify']\n",
    "LABEL = 'class'\n",
    "N_CLASSES = 4\n",
    "\n",
    "FEATURE_NAMES = list(BANDS)\n",
    "FEATURE_NAMES.append(LABEL)\n",
    "\n",
    "sample = gt_image_texture.sampleRegions(\n",
    "    collection = LABEL_DATA,\n",
    "    properties = [LABEL],\n",
    "    scale = spatial_resolution,\n",
    ").randomColumn()\n",
    "\n",
    "training = sample.filter(ee.Filter.lt('random', 0.8))\n",
    "testing = sample.filter(ee.Filter.gte('random', 0.8))\n",
    "\n",
    "#pprint({'training': training.first().getInfo()})\n",
    "#pprint({'testing': testing.first().getInfo()})"
   ]
  },
  {
   "cell_type": "code",
   "execution_count": 11,
   "metadata": {
    "id": "ZAYHijezmYjl"
   },
   "outputs": [],
   "source": [
    "training_task = ee.batch.Export.table.toDrive(\n",
    "  collection=training,\n",
    "  description='Training Export',\n",
    "  folder=FOLDER_NAME,\n",
    "  fileNamePrefix=TRAIN_FILE_PREFIX,\n",
    "  fileFormat='TFRecord',\n",
    "  selectors=FEATURE_NAMES)\n",
    "\n",
    "testing_task = ee.batch.Export.table.toDrive(\n",
    "  collection=testing,\n",
    "  description='Testing Export',\n",
    "  folder=FOLDER_NAME,\n",
    "  fileNamePrefix=TEST_FILE_PREFIX,\n",
    "  fileFormat='TFRecord',\n",
    "  selectors=FEATURE_NAMES)"
   ]
  },
  {
   "cell_type": "code",
   "execution_count": 12,
   "metadata": {
    "id": "BWURzdwvm_kC"
   },
   "outputs": [],
   "source": [
    "training_task.start()\n",
    "testing_task.start()"
   ]
  },
  {
   "cell_type": "code",
   "execution_count": 13,
   "metadata": {
    "id": "bgVIojLinCGS"
   },
   "outputs": [
    {
     "name": "stdout",
     "output_type": "stream",
     "text": [
      "Polling for task (id: G4L64576PKOPH5HPSDRMUJNB).\n",
      "Polling for task (id: G4L64576PKOPH5HPSDRMUJNB).\n",
      "Done with training export.\n",
      "Done with testing export.\n"
     ]
    }
   ],
   "source": [
    "while training_task.active():\n",
    "  print('Polling for task (id: {}).'.format(training_task.id))\n",
    "  time.sleep(20)\n",
    "print('Done with training export.')\n",
    "\n",
    "while testing_task.active():\n",
    "  print('Polling for task (id: {}).'.format(testing_task.id))\n",
    "  time.sleep(20)\n",
    "print('Done with testing export.')"
   ]
  },
  {
   "cell_type": "code",
   "execution_count": null,
   "metadata": {
    "id": "mZnC6g5twMm5"
   },
   "outputs": [],
   "source": [
    "src_dir = MY_DRIVE_PATH + '/' + FOLDER_NAME\n",
    "src_files = os.listdir(src_dir)\n",
    "\n",
    "dest_dir = os.path.join(src_dir, 'sample')\n",
    "\n",
    "os.makedirs(dest_dir, exist_ok = True)\n",
    "\n",
    "for file in src_files:\n",
    "    shutil.move(os.path.join(src_dir, file), dest_dir)"
   ]
  },
  {
   "cell_type": "code",
   "execution_count": null,
   "metadata": {
    "id": "EsS6YBcjnSJ7"
   },
   "outputs": [],
   "source": [
    "print('Found training file.' if tf.io.gfile.exists(TRAIN_FILE_PATH) \n",
    "    else 'No training file found.')\n",
    "\n",
    "print('Found testing file.' if tf.io.gfile.exists(TEST_FILE_PATH) \n",
    "    else 'No testing file found.')"
   ]
  },
  {
   "cell_type": "code",
   "execution_count": 14,
   "metadata": {
    "id": "AN-cQlaS0yEP"
   },
   "outputs": [],
   "source": [
    "train_dataset = tf.data.TFRecordDataset('Training_1705311024.tfrecord.gz', compression_type='GZIP')\n",
    "test_dataset = tf.data.TFRecordDataset('Testing_1705311024.tfrecord.gz', compression_type='GZIP')\n",
    "\n",
    "# print(iter(train_dataset).next())\n",
    "# print(iter(test_dataset).next())"
   ]
  },
  {
   "cell_type": "code",
   "execution_count": 15,
   "metadata": {
    "id": "lJiRlwiq3q4O"
   },
   "outputs": [
    {
     "name": "stdout",
     "output_type": "stream",
     "text": [
      "{'B1': FixedLenFeature(shape=[1], dtype=tf.float32, default_value=None),\n",
      " 'B2': FixedLenFeature(shape=[1], dtype=tf.float32, default_value=None),\n",
      " 'B3': FixedLenFeature(shape=[1], dtype=tf.float32, default_value=None),\n",
      " 'B4': FixedLenFeature(shape=[1], dtype=tf.float32, default_value=None),\n",
      " 'B4_1': FixedLenFeature(shape=[1], dtype=tf.float32, default_value=None),\n",
      " 'B5': FixedLenFeature(shape=[1], dtype=tf.float32, default_value=None),\n",
      " 'B7': FixedLenFeature(shape=[1], dtype=tf.float32, default_value=None),\n",
      " 'bi': FixedLenFeature(shape=[1], dtype=tf.float32, default_value=None),\n",
      " 'class': FixedLenFeature(shape=[1], dtype=tf.float32, default_value=None),\n",
      " 'ndbi': FixedLenFeature(shape=[1], dtype=tf.float32, default_value=None),\n",
      " 'ndvi': FixedLenFeature(shape=[1], dtype=tf.float32, default_value=None),\n",
      " 'ndwi': FixedLenFeature(shape=[1], dtype=tf.float32, default_value=None)}\n"
     ]
    }
   ],
   "source": [
    "columns = [\n",
    "           tf.io.FixedLenFeature(shape=[1], dtype=tf.float32) for k in FEATURE_NAMES\n",
    "]\n",
    "\n",
    "features_dict = dict(zip(FEATURE_NAMES, columns))\n",
    "\n",
    "pprint(features_dict)"
   ]
  },
  {
   "cell_type": "code",
   "execution_count": 16,
   "metadata": {
    "id": "xnes6DPZTs8V"
   },
   "outputs": [],
   "source": [
    "def parse_tfrecord(example_proto):\n",
    "  parsed_features = tf.io.parse_single_example(example_proto, features_dict)\n",
    "  labels = parsed_features.pop(LABEL)\n",
    "  return parsed_features, tf.cast(labels, tf.int32)\n",
    "\n",
    "parsed_trainset = train_dataset.map(parse_tfrecord, num_parallel_calls=5)\n",
    "parsed_testset = test_dataset.map(parse_tfrecord, num_parallel_calls=5)\n",
    "\n",
    "# pprint(iter(parsed_trainset))\n",
    "# pprint(iter(parsed_testset))"
   ]
  },
  {
   "cell_type": "code",
   "execution_count": 17,
   "metadata": {
    "id": "1tcHrlkuU1_S"
   },
   "outputs": [],
   "source": [
    "batch_size = 50\n",
    "\n",
    "def to_tuple(inputs, label):\n",
    "  return (tf.transpose(list(inputs.values())), tf.one_hot(indices=label, depth=N_CLASSES))\n",
    "\n",
    "input_dataset = parsed_trainset.map(to_tuple).batch(batch_size)\n",
    "validate_dataset = parsed_testset.map(to_tuple).batch(batch_size)\n"
   ]
  },
  {
   "cell_type": "code",
   "execution_count": 18,
   "metadata": {
    "id": "694bORamYglL"
   },
   "outputs": [],
   "source": [
    "drop = 0.05\n",
    "N_UNITS=64\n",
    "model = tf.keras.models.Sequential()\n",
    "\n",
    "model.add(tf.keras.layers.Dense(N_UNITS, activation='relu'))\n",
    "for i in range(8):\n",
    "  model.add(tf.keras.layers.Dropout(drop))\n",
    "  model.add(tf.keras.layers.Dense(N_UNITS, activation='relu'))\n",
    "\n",
    "model.add(tf.keras.layers.Dense(N_CLASSES, activation=tf.nn.softmax))"
   ]
  },
  {
   "cell_type": "code",
   "execution_count": 20,
   "metadata": {
    "id": "oS81n0jVZKbU"
   },
   "outputs": [
    {
     "name": "stderr",
     "output_type": "stream",
     "text": [
      "/home/jovyan/my-conda-envs/py310/lib/python3.10/site-packages/tensorflow_addons/utils/tfa_eol_msg.py:23: UserWarning: \n",
      "\n",
      "TensorFlow Addons (TFA) has ended development and introduction of new features.\n",
      "TFA has entered a minimal maintenance and release mode until a planned end of life in May 2024.\n",
      "Please modify downstream libraries to take dependencies from other repositories in our TensorFlow community (e.g. Keras, Keras-CV, and Keras-NLP). \n",
      "\n",
      "For more information see: https://github.com/tensorflow/addons/issues/2807 \n",
      "\n",
      "  warnings.warn(\n"
     ]
    }
   ],
   "source": [
    "import tensorflow_addons as tfa\n",
    "optimizer = tfa.optimizers.RectifiedAdam()\n",
    "\n",
    "model.compile(\n",
    "    optimizer=optimizer,\n",
    "    loss='categorical_crossentropy',\n",
    "    metrics=['accuracy']\n",
    ")"
   ]
  },
  {
   "cell_type": "code",
   "execution_count": 23,
   "metadata": {
    "id": "tJ6GHY6qZOjt"
   },
   "outputs": [
    {
     "name": "stdout",
     "output_type": "stream",
     "text": [
      "Epoch 1/100\n",
      "17/17 [==============================] - 3s 42ms/step - loss: 1.4000 - accuracy: 0.0654 - val_loss: 1.3885 - val_accuracy: 0.0957\n",
      "Epoch 2/100\n",
      " 1/17 [>.............................] - ETA: 0s - loss: 1.3479 - accuracy: 0.8000"
     ]
    },
    {
     "name": "stderr",
     "output_type": "stream",
     "text": [
      "/home/jovyan/my-conda-envs/py310/lib/python3.10/site-packages/keras/src/engine/training.py:3103: UserWarning: You are saving your model as an HDF5 file via `model.save()`. This file format is considered legacy. We recommend using instead the native Keras format, e.g. `model.save('my_model.keras')`.\n",
      "  saving_api.save_model(\n"
     ]
    },
    {
     "name": "stdout",
     "output_type": "stream",
     "text": [
      "17/17 [==============================] - 0s 14ms/step - loss: 1.3656 - accuracy: 0.2827 - val_loss: 1.3368 - val_accuracy: 0.9043\n",
      "Epoch 3/100\n",
      "17/17 [==============================] - 0s 17ms/step - loss: 1.3009 - accuracy: 0.8864 - val_loss: 1.2169 - val_accuracy: 0.9043\n",
      "Epoch 4/100\n",
      "17/17 [==============================] - 0s 16ms/step - loss: 1.1007 - accuracy: 0.8889 - val_loss: 0.8747 - val_accuracy: 0.9043\n",
      "Epoch 5/100\n",
      "17/17 [==============================] - 0s 16ms/step - loss: 0.6001 - accuracy: 0.8889 - val_loss: 0.3478 - val_accuracy: 0.9043\n",
      "Epoch 6/100\n",
      "17/17 [==============================] - 1s 91ms/step - loss: 0.3577 - accuracy: 0.8889 - val_loss: 0.3121 - val_accuracy: 0.9043\n",
      "Epoch 7/100\n",
      "17/17 [==============================] - 0s 15ms/step - loss: 0.3928 - accuracy: 0.8889 - val_loss: 0.2817 - val_accuracy: 0.9043\n",
      "Epoch 8/100\n",
      "17/17 [==============================] - 0s 16ms/step - loss: 0.3619 - accuracy: 0.8889 - val_loss: 0.2601 - val_accuracy: 0.9043\n",
      "Epoch 9/100\n",
      "17/17 [==============================] - 0s 13ms/step - loss: 0.3250 - accuracy: 0.8889 - val_loss: 0.2438 - val_accuracy: 0.9043\n",
      "Epoch 10/100\n",
      "17/17 [==============================] - 0s 14ms/step - loss: 0.3142 - accuracy: 0.8889 - val_loss: 0.2272 - val_accuracy: 0.9043\n",
      "Epoch 11/100\n",
      "17/17 [==============================] - 0s 14ms/step - loss: 0.2874 - accuracy: 0.8889 - val_loss: 0.2105 - val_accuracy: 0.9043\n",
      "Epoch 12/100\n",
      "17/17 [==============================] - 0s 14ms/step - loss: 0.2664 - accuracy: 0.8889 - val_loss: 0.1879 - val_accuracy: 0.9043\n",
      "Epoch 13/100\n",
      "17/17 [==============================] - 0s 15ms/step - loss: 0.2391 - accuracy: 0.8889 - val_loss: 0.1638 - val_accuracy: 0.9043\n",
      "Epoch 14/100\n",
      "17/17 [==============================] - 0s 15ms/step - loss: 0.2065 - accuracy: 0.8889 - val_loss: 0.1402 - val_accuracy: 0.9043\n",
      "Epoch 15/100\n",
      "17/17 [==============================] - 0s 16ms/step - loss: 0.1680 - accuracy: 0.8889 - val_loss: 0.1219 - val_accuracy: 0.9043\n",
      "Epoch 16/100\n",
      "17/17 [==============================] - 0s 13ms/step - loss: 0.1495 - accuracy: 0.8889 - val_loss: 0.1075 - val_accuracy: 0.9043\n",
      "Epoch 17/100\n",
      "17/17 [==============================] - 0s 16ms/step - loss: 0.1219 - accuracy: 0.8914 - val_loss: 0.0903 - val_accuracy: 0.9913\n",
      "Epoch 18/100\n",
      "17/17 [==============================] - 0s 15ms/step - loss: 0.1023 - accuracy: 0.9556 - val_loss: 0.0626 - val_accuracy: 0.9957\n",
      "Epoch 19/100\n",
      "17/17 [==============================] - 0s 14ms/step - loss: 0.0673 - accuracy: 0.9975 - val_loss: 0.0351 - val_accuracy: 0.9957\n",
      "Epoch 20/100\n",
      "17/17 [==============================] - 0s 15ms/step - loss: 0.0323 - accuracy: 1.0000 - val_loss: 0.0128 - val_accuracy: 0.9957\n",
      "Epoch 21/100\n",
      "17/17 [==============================] - 0s 16ms/step - loss: 0.0110 - accuracy: 1.0000 - val_loss: 0.0049 - val_accuracy: 1.0000\n",
      "Epoch 22/100\n",
      "17/17 [==============================] - 0s 11ms/step - loss: 0.0034 - accuracy: 0.9988 - val_loss: 0.0220 - val_accuracy: 0.9957\n",
      "Epoch 23/100\n",
      "17/17 [==============================] - 0s 13ms/step - loss: 0.0041 - accuracy: 0.9988 - val_loss: 0.0048 - val_accuracy: 0.9957\n",
      "Epoch 24/100\n",
      "17/17 [==============================] - 0s 14ms/step - loss: 7.9022e-04 - accuracy: 1.0000 - val_loss: 0.0041 - val_accuracy: 0.9957\n",
      "Epoch 25/100\n",
      "17/17 [==============================] - 0s 9ms/step - loss: 7.1855e-04 - accuracy: 1.0000 - val_loss: 0.0136 - val_accuracy: 0.9957\n",
      "Epoch 26/100\n",
      "17/17 [==============================] - 0s 10ms/step - loss: 6.6171e-04 - accuracy: 1.0000 - val_loss: 0.0172 - val_accuracy: 0.9957\n",
      "Epoch 27/100\n",
      "17/17 [==============================] - 0s 10ms/step - loss: 7.7623e-04 - accuracy: 1.0000 - val_loss: 0.0116 - val_accuracy: 0.9957\n",
      "Epoch 28/100\n",
      "17/17 [==============================] - 0s 14ms/step - loss: 7.7639e-04 - accuracy: 1.0000 - val_loss: 1.1195e-04 - val_accuracy: 1.0000\n",
      "Epoch 29/100\n",
      "17/17 [==============================] - 0s 10ms/step - loss: 4.0206e-04 - accuracy: 1.0000 - val_loss: 8.0209e-04 - val_accuracy: 1.0000\n",
      "Epoch 30/100\n",
      "17/17 [==============================] - 0s 11ms/step - loss: 9.8775e-05 - accuracy: 1.0000 - val_loss: 0.0081 - val_accuracy: 0.9957\n",
      "Epoch 31/100\n",
      "17/17 [==============================] - 0s 11ms/step - loss: 2.7898e-04 - accuracy: 1.0000 - val_loss: 0.0024 - val_accuracy: 1.0000\n",
      "Epoch 32/100\n",
      "17/17 [==============================] - 0s 11ms/step - loss: 5.3518e-05 - accuracy: 1.0000 - val_loss: 0.0019 - val_accuracy: 1.0000\n",
      "Epoch 33/100\n",
      "17/17 [==============================] - 0s 10ms/step - loss: 2.2295e-04 - accuracy: 1.0000 - val_loss: 0.0020 - val_accuracy: 1.0000\n",
      "Epoch 34/100\n",
      "17/17 [==============================] - 0s 10ms/step - loss: 8.7840e-05 - accuracy: 1.0000 - val_loss: 0.0062 - val_accuracy: 0.9957\n",
      "Epoch 35/100\n",
      "17/17 [==============================] - 0s 10ms/step - loss: 8.0930e-05 - accuracy: 1.0000 - val_loss: 0.0055 - val_accuracy: 0.9957\n",
      "Epoch 36/100\n",
      "17/17 [==============================] - 0s 11ms/step - loss: 7.9891e-05 - accuracy: 1.0000 - val_loss: 0.0020 - val_accuracy: 1.0000\n",
      "Epoch 37/100\n",
      "17/17 [==============================] - 0s 11ms/step - loss: 0.0131 - accuracy: 0.9963 - val_loss: 0.0253 - val_accuracy: 0.9957\n",
      "Epoch 38/100\n",
      "17/17 [==============================] - 0s 11ms/step - loss: 0.0076 - accuracy: 0.9975 - val_loss: 1.1601e-04 - val_accuracy: 1.0000\n",
      "Epoch 39/100\n",
      "17/17 [==============================] - 0s 11ms/step - loss: 2.0487e-04 - accuracy: 1.0000 - val_loss: 0.0014 - val_accuracy: 1.0000\n",
      "Epoch 40/100\n",
      "17/17 [==============================] - 0s 13ms/step - loss: 2.4690e-04 - accuracy: 1.0000 - val_loss: 0.0019 - val_accuracy: 1.0000\n",
      "Epoch 41/100\n",
      "17/17 [==============================] - 0s 10ms/step - loss: 2.7941e-04 - accuracy: 1.0000 - val_loss: 0.0014 - val_accuracy: 1.0000\n",
      "Epoch 42/100\n",
      "17/17 [==============================] - 0s 10ms/step - loss: 1.7976e-04 - accuracy: 1.0000 - val_loss: 9.4974e-04 - val_accuracy: 1.0000\n",
      "Epoch 43/100\n",
      "17/17 [==============================] - 0s 10ms/step - loss: 2.0844e-04 - accuracy: 1.0000 - val_loss: 5.2831e-04 - val_accuracy: 1.0000\n",
      "Epoch 44/100\n",
      "17/17 [==============================] - 0s 11ms/step - loss: 1.0942e-04 - accuracy: 1.0000 - val_loss: 3.8939e-04 - val_accuracy: 1.0000\n",
      "Epoch 45/100\n",
      "17/17 [==============================] - 0s 12ms/step - loss: 1.1739e-04 - accuracy: 1.0000 - val_loss: 2.9283e-04 - val_accuracy: 1.0000\n",
      "Epoch 46/100\n",
      "17/17 [==============================] - 0s 16ms/step - loss: 2.6197e-04 - accuracy: 1.0000 - val_loss: 2.5320e-05 - val_accuracy: 1.0000\n",
      "Epoch 47/100\n",
      "17/17 [==============================] - 0s 15ms/step - loss: 4.1975e-05 - accuracy: 1.0000 - val_loss: 1.8632e-05 - val_accuracy: 1.0000\n",
      "Epoch 48/100\n",
      "17/17 [==============================] - 0s 16ms/step - loss: 5.1105e-05 - accuracy: 1.0000 - val_loss: 1.5112e-05 - val_accuracy: 1.0000\n",
      "Epoch 49/100\n",
      "17/17 [==============================] - 0s 14ms/step - loss: 3.6483e-05 - accuracy: 1.0000 - val_loss: 1.0067e-05 - val_accuracy: 1.0000\n",
      "Epoch 50/100\n",
      "17/17 [==============================] - 0s 15ms/step - loss: 2.4461e-05 - accuracy: 1.0000 - val_loss: 7.4774e-06 - val_accuracy: 1.0000\n",
      "Epoch 51/100\n",
      "17/17 [==============================] - 0s 13ms/step - loss: 2.0665e-05 - accuracy: 1.0000 - val_loss: 4.5821e-06 - val_accuracy: 1.0000\n",
      "Epoch 52/100\n",
      "17/17 [==============================] - 0s 15ms/step - loss: 1.3732e-05 - accuracy: 1.0000 - val_loss: 2.8462e-06 - val_accuracy: 1.0000\n",
      "Epoch 53/100\n",
      "17/17 [==============================] - 0s 14ms/step - loss: 5.7988e-06 - accuracy: 1.0000 - val_loss: 2.0622e-06 - val_accuracy: 1.0000\n",
      "Epoch 54/100\n",
      "17/17 [==============================] - 0s 14ms/step - loss: 1.1236e-05 - accuracy: 1.0000 - val_loss: 1.7611e-06 - val_accuracy: 1.0000\n",
      "Epoch 55/100\n",
      "17/17 [==============================] - 0s 11ms/step - loss: 4.1073e-06 - accuracy: 1.0000 - val_loss: 1.8704e-06 - val_accuracy: 1.0000\n",
      "Epoch 56/100\n",
      "17/17 [==============================] - 0s 15ms/step - loss: 4.8770e-06 - accuracy: 1.0000 - val_loss: 1.5906e-06 - val_accuracy: 1.0000\n",
      "Epoch 57/100\n",
      "17/17 [==============================] - 0s 14ms/step - loss: 4.7164e-06 - accuracy: 1.0000 - val_loss: 1.2599e-06 - val_accuracy: 1.0000\n",
      "Epoch 58/100\n",
      "17/17 [==============================] - 0s 11ms/step - loss: 0.0028 - accuracy: 0.9988 - val_loss: 0.0433 - val_accuracy: 0.9957\n",
      "Epoch 59/100\n",
      "17/17 [==============================] - 0s 11ms/step - loss: 2.0134e-04 - accuracy: 1.0000 - val_loss: 0.0745 - val_accuracy: 0.9913\n",
      "Epoch 60/100\n",
      "17/17 [==============================] - 0s 11ms/step - loss: 0.0037 - accuracy: 0.9988 - val_loss: 1.2890e-06 - val_accuracy: 1.0000\n",
      "Epoch 61/100\n",
      "17/17 [==============================] - 0s 11ms/step - loss: 0.0053 - accuracy: 0.9988 - val_loss: 0.0378 - val_accuracy: 0.9957\n",
      "Epoch 62/100\n",
      "17/17 [==============================] - 0s 10ms/step - loss: 1.9912e-04 - accuracy: 1.0000 - val_loss: 0.0527 - val_accuracy: 0.9957\n",
      "Epoch 63/100\n",
      "17/17 [==============================] - 0s 11ms/step - loss: 0.0021 - accuracy: 0.9988 - val_loss: 3.9355e-06 - val_accuracy: 1.0000\n",
      "Epoch 64/100\n",
      "17/17 [==============================] - 0s 11ms/step - loss: 8.2804e-05 - accuracy: 1.0000 - val_loss: 1.7445e-06 - val_accuracy: 1.0000\n",
      "Epoch 65/100\n",
      "17/17 [==============================] - 0s 10ms/step - loss: 0.0071 - accuracy: 0.9988 - val_loss: 1.7659e-05 - val_accuracy: 1.0000\n",
      "Epoch 66/100\n",
      "17/17 [==============================] - 0s 10ms/step - loss: 2.2209e-05 - accuracy: 1.0000 - val_loss: 0.0303 - val_accuracy: 0.9957\n",
      "Epoch 67/100\n",
      "17/17 [==============================] - 0s 9ms/step - loss: 3.9418e-04 - accuracy: 1.0000 - val_loss: 0.0316 - val_accuracy: 0.9957\n",
      "Epoch 68/100\n",
      "17/17 [==============================] - 0s 10ms/step - loss: 1.5349e-04 - accuracy: 1.0000 - val_loss: 0.0313 - val_accuracy: 0.9957\n",
      "Epoch 69/100\n",
      "17/17 [==============================] - 0s 10ms/step - loss: 1.1908e-04 - accuracy: 1.0000 - val_loss: 0.0307 - val_accuracy: 0.9957\n",
      "Epoch 70/100\n",
      "17/17 [==============================] - 0s 10ms/step - loss: 0.0033 - accuracy: 0.9988 - val_loss: 6.2703e-06 - val_accuracy: 1.0000\n",
      "Epoch 71/100\n",
      "17/17 [==============================] - 0s 10ms/step - loss: 4.2571e-05 - accuracy: 1.0000 - val_loss: 3.6241e-06 - val_accuracy: 1.0000\n",
      "Epoch 72/100\n",
      "17/17 [==============================] - 0s 10ms/step - loss: 4.5232e-05 - accuracy: 1.0000 - val_loss: 3.3578e-06 - val_accuracy: 1.0000\n",
      "Epoch 73/100\n",
      "17/17 [==============================] - 0s 10ms/step - loss: 4.8612e-05 - accuracy: 1.0000 - val_loss: 3.2132e-06 - val_accuracy: 1.0000\n",
      "Epoch 74/100\n",
      "17/17 [==============================] - 0s 11ms/step - loss: 1.5283e-05 - accuracy: 1.0000 - val_loss: 2.9867e-06 - val_accuracy: 1.0000\n",
      "Epoch 75/100\n",
      "17/17 [==============================] - 0s 12ms/step - loss: 9.3779e-06 - accuracy: 1.0000 - val_loss: 2.9116e-06 - val_accuracy: 1.0000\n",
      "Epoch 76/100\n",
      "17/17 [==============================] - 0s 11ms/step - loss: 1.5842e-05 - accuracy: 1.0000 - val_loss: 2.8535e-06 - val_accuracy: 1.0000\n",
      "Epoch 77/100\n",
      "17/17 [==============================] - 0s 11ms/step - loss: 1.1939e-05 - accuracy: 1.0000 - val_loss: 2.7898e-06 - val_accuracy: 1.0000\n",
      "Epoch 78/100\n",
      "17/17 [==============================] - 0s 9ms/step - loss: 1.4841e-05 - accuracy: 1.0000 - val_loss: 2.6447e-06 - val_accuracy: 1.0000\n",
      "Epoch 79/100\n",
      "17/17 [==============================] - 0s 10ms/step - loss: 2.1622e-05 - accuracy: 1.0000 - val_loss: 2.5421e-06 - val_accuracy: 1.0000\n",
      "Epoch 80/100\n",
      "17/17 [==============================] - 0s 11ms/step - loss: 2.8336e-05 - accuracy: 1.0000 - val_loss: 2.4555e-06 - val_accuracy: 1.0000\n",
      "Epoch 81/100\n",
      "17/17 [==============================] - 0s 11ms/step - loss: 1.8985e-05 - accuracy: 1.0000 - val_loss: 2.3591e-06 - val_accuracy: 1.0000\n",
      "Epoch 82/100\n",
      "17/17 [==============================] - 0s 9ms/step - loss: 1.7074e-05 - accuracy: 1.0000 - val_loss: 2.2690e-06 - val_accuracy: 1.0000\n",
      "Epoch 83/100\n",
      "17/17 [==============================] - 0s 9ms/step - loss: 1.3252e-05 - accuracy: 1.0000 - val_loss: 2.1886e-06 - val_accuracy: 1.0000\n",
      "Epoch 84/100\n",
      "17/17 [==============================] - 0s 10ms/step - loss: 1.5374e-05 - accuracy: 1.0000 - val_loss: 2.1005e-06 - val_accuracy: 1.0000\n",
      "Epoch 85/100\n",
      "17/17 [==============================] - 0s 10ms/step - loss: 1.4941e-05 - accuracy: 1.0000 - val_loss: 1.9171e-06 - val_accuracy: 1.0000\n",
      "Epoch 86/100\n",
      "17/17 [==============================] - 0s 10ms/step - loss: 9.0449e-06 - accuracy: 1.0000 - val_loss: 1.7217e-06 - val_accuracy: 1.0000\n",
      "Epoch 87/100\n",
      "17/17 [==============================] - 0s 10ms/step - loss: 1.3442e-05 - accuracy: 1.0000 - val_loss: 1.5559e-06 - val_accuracy: 1.0000\n",
      "Epoch 88/100\n",
      "17/17 [==============================] - 0s 9ms/step - loss: 6.6977e-06 - accuracy: 1.0000 - val_loss: 1.4626e-06 - val_accuracy: 1.0000\n",
      "Epoch 89/100\n",
      "17/17 [==============================] - 0s 10ms/step - loss: 9.1196e-06 - accuracy: 1.0000 - val_loss: 1.2926e-06 - val_accuracy: 1.0000\n",
      "Epoch 90/100\n",
      "17/17 [==============================] - 0s 14ms/step - loss: 4.8793e-06 - accuracy: 1.0000 - val_loss: 1.2320e-06 - val_accuracy: 1.0000\n",
      "Epoch 91/100\n",
      "17/17 [==============================] - 0s 15ms/step - loss: 3.8091e-06 - accuracy: 1.0000 - val_loss: 1.1952e-06 - val_accuracy: 1.0000\n",
      "Epoch 92/100\n",
      "17/17 [==============================] - 0s 15ms/step - loss: 7.2842e-06 - accuracy: 1.0000 - val_loss: 1.1288e-06 - val_accuracy: 1.0000\n",
      "Epoch 93/100\n",
      "17/17 [==============================] - 0s 11ms/step - loss: 0.0043 - accuracy: 0.9988 - val_loss: 0.0262 - val_accuracy: 0.9957\n",
      "Epoch 94/100\n",
      "17/17 [==============================] - 0s 11ms/step - loss: 1.0992e-04 - accuracy: 1.0000 - val_loss: 0.0369 - val_accuracy: 0.9957\n",
      "Epoch 95/100\n",
      "17/17 [==============================] - 0s 11ms/step - loss: 0.0023 - accuracy: 0.9988 - val_loss: 1.9484e-05 - val_accuracy: 1.0000\n",
      "Epoch 96/100\n",
      "17/17 [==============================] - 0s 10ms/step - loss: 1.0140e-05 - accuracy: 1.0000 - val_loss: 4.7811e-06 - val_accuracy: 1.0000\n",
      "Epoch 97/100\n",
      "17/17 [==============================] - 0s 11ms/step - loss: 2.0283e-05 - accuracy: 1.0000 - val_loss: 3.3419e-06 - val_accuracy: 1.0000\n",
      "Epoch 98/100\n",
      "17/17 [==============================] - 0s 10ms/step - loss: 8.2785e-06 - accuracy: 1.0000 - val_loss: 2.9725e-06 - val_accuracy: 1.0000\n",
      "Epoch 99/100\n",
      "17/17 [==============================] - 0s 10ms/step - loss: 1.4661e-05 - accuracy: 1.0000 - val_loss: 2.7015e-06 - val_accuracy: 1.0000\n",
      "Epoch 100/100\n",
      "17/17 [==============================] - 0s 10ms/step - loss: 1.2972e-05 - accuracy: 1.0000 - val_loss: 2.5704e-06 - val_accuracy: 1.0000\n"
     ]
    }
   ],
   "source": [
    "from keras.callbacks import ModelCheckpoint\n",
    "from keras.callbacks import LearningRateScheduler\n",
    "\n",
    "log_d = './' #MY_DRIVE_PATH + '/' + FOLDER_NAME + '/' + 'model'\n",
    "os.makedirs(log_d, exist_ok=True)\n",
    "\n",
    "def build_callbacks():\n",
    "    checkpointer = ModelCheckpoint(filepath = log_d + '/best_model.h5', verbose=0, save_best_only=True, monitor='val_loss')\n",
    "    callbacks = [checkpointer]\n",
    "    return callbacks\n",
    "history = model.fit(x=input_dataset,validation_data=(validate_dataset), epochs=100, callbacks=build_callbacks())"
   ]
  },
  {
   "cell_type": "code",
   "execution_count": 24,
   "metadata": {
    "id": "VD3oemUAgGcM"
   },
   "outputs": [
    {
     "data": {
      "image/png": "[encoded data removed]",
      "text/plain": [
       "<Figure size 640x480 with 1 Axes>"
      ]
     },
     "metadata": {},
     "output_type": "display_data"
    },
    {
     "data": {
      "image/png": "[encoded data removed]",
      "text/plain": [
       "<Figure size 640x480 with 1 Axes>"
      ]
     },
     "metadata": {},
     "output_type": "display_data"
    }
   ],
   "source": [
    "import matplotlib.pyplot as plt\n",
    "# summarize history for accuracy\n",
    "plt.plot(history.history['accuracy'])\n",
    "plt.plot(history.history['val_accuracy'])\n",
    "plt.title('model accuracy')\n",
    "plt.ylabel('accuracy')\n",
    "plt.xlabel('epoch')\n",
    "plt.legend(['train', 'test'], loc='upper left')\n",
    "plt.show()\n",
    "# summarize history for loss\n",
    "plt.plot(history.history['loss'])\n",
    "plt.plot(history.history['val_loss'])\n",
    "plt.title('model loss')\n",
    "plt.ylabel('loss')\n",
    "plt.xlabel('epoch')\n",
    "plt.legend(['train', 'test'], loc='upper left')\n",
    "plt.show()"
   ]
  },
  {
   "cell_type": "code",
   "execution_count": 26,
   "metadata": {
    "id": "MNb394HLdF1c"
   },
   "outputs": [
    {
     "name": "stdout",
     "output_type": "stream",
     "text": [
      "5/5 [==============================] - 0s 12ms/step - loss: 1.1288e-06 - accuracy: 1.0000\n"
     ]
    },
    {
     "data": {
      "text/plain": [
       "[1.128818098550255e-06, 1.0]"
      ]
     },
     "execution_count": 26,
     "metadata": {},
     "output_type": "execute_result"
    }
   ],
   "source": [
    "from tensorflow import keras\n",
    "model = keras.models.load_model(log_d + '/best_model.h5')\n",
    "model.evaluate(validate_dataset)"
   ]
  },
  {
   "cell_type": "code",
   "execution_count": 27,
   "metadata": {
    "id": "vCfGLPzQhKE1"
   },
   "outputs": [],
   "source": [
    "image_export_options = {\n",
    "    'patchDimensions': [patch_size, patch_size],\n",
    "    'maxFileSize': 104857600,\n",
    "    'compressed': True\n",
    "}\n",
    "\n",
    "image_task = ee.batch.Export.image.toDrive(\n",
    "  image=out_image_texture,\n",
    "  description='Image Export',\n",
    "  fileNamePrefix= IMAGE_FILE_PREFIX,\n",
    "  folder= FOLDER_NAME,\n",
    "  scale=spatial_resolution,\n",
    "  fileFormat='TFRecord',\n",
    "  region=out_ext_buffer,\n",
    "  formatOptions=image_export_options,\n",
    ")\n",
    "\n",
    "image_task.start()"
   ]
  },
  {
   "cell_type": "code",
   "execution_count": 28,
   "metadata": {
    "id": "q7UiBAvvjnlF"
   },
   "outputs": [
    {
     "name": "stdout",
     "output_type": "stream",
     "text": [
      "Polling for task (id: 4PZVNOU6PSHBU34P3VT4K7CT).\n",
      "Polling for task (id: 4PZVNOU6PSHBU34P3VT4K7CT).\n",
      "Polling for task (id: 4PZVNOU6PSHBU34P3VT4K7CT).\n",
      "Polling for task (id: 4PZVNOU6PSHBU34P3VT4K7CT).\n",
      "Polling for task (id: 4PZVNOU6PSHBU34P3VT4K7CT).\n",
      "Polling for task (id: 4PZVNOU6PSHBU34P3VT4K7CT).\n",
      "Polling for task (id: 4PZVNOU6PSHBU34P3VT4K7CT).\n",
      "Polling for task (id: 4PZVNOU6PSHBU34P3VT4K7CT).\n",
      "Polling for task (id: 4PZVNOU6PSHBU34P3VT4K7CT).\n",
      "Polling for task (id: 4PZVNOU6PSHBU34P3VT4K7CT).\n",
      "Polling for task (id: 4PZVNOU6PSHBU34P3VT4K7CT).\n",
      "Polling for task (id: 4PZVNOU6PSHBU34P3VT4K7CT).\n",
      "Polling for task (id: 4PZVNOU6PSHBU34P3VT4K7CT).\n",
      "Polling for task (id: 4PZVNOU6PSHBU34P3VT4K7CT).\n",
      "Polling for task (id: 4PZVNOU6PSHBU34P3VT4K7CT).\n",
      "Polling for task (id: 4PZVNOU6PSHBU34P3VT4K7CT).\n",
      "Polling for task (id: 4PZVNOU6PSHBU34P3VT4K7CT).\n",
      "Polling for task (id: 4PZVNOU6PSHBU34P3VT4K7CT).\n",
      "Polling for task (id: 4PZVNOU6PSHBU34P3VT4K7CT).\n",
      "Polling for task (id: 4PZVNOU6PSHBU34P3VT4K7CT).\n",
      "Polling for task (id: 4PZVNOU6PSHBU34P3VT4K7CT).\n",
      "Polling for task (id: 4PZVNOU6PSHBU34P3VT4K7CT).\n",
      "Polling for task (id: 4PZVNOU6PSHBU34P3VT4K7CT).\n",
      "Polling for task (id: 4PZVNOU6PSHBU34P3VT4K7CT).\n",
      "Polling for task (id: 4PZVNOU6PSHBU34P3VT4K7CT).\n",
      "Polling for task (id: 4PZVNOU6PSHBU34P3VT4K7CT).\n",
      "Polling for task (id: 4PZVNOU6PSHBU34P3VT4K7CT).\n",
      "Polling for task (id: 4PZVNOU6PSHBU34P3VT4K7CT).\n",
      "Polling for task (id: 4PZVNOU6PSHBU34P3VT4K7CT).\n",
      "Polling for task (id: 4PZVNOU6PSHBU34P3VT4K7CT).\n",
      "Polling for task (id: 4PZVNOU6PSHBU34P3VT4K7CT).\n",
      "Polling for task (id: 4PZVNOU6PSHBU34P3VT4K7CT).\n",
      "Done with image export.\n"
     ]
    }
   ],
   "source": [
    "while image_task.active():\n",
    "  print('Polling for task (id: {}).'.format(image_task.id))\n",
    "  time.sleep(20)\n",
    "print('Done with image export.')"
   ]
  },
  {
   "cell_type": "code",
   "execution_count": null,
   "metadata": {
    "id": "VGbbvGEyj59c"
   },
   "outputs": [],
   "source": [
    "tfrecord_list = glob.glob(MY_DRIVE_PATH +'/' + FOLDER_NAME + '/' + '*.tfrecord.gz')\n",
    "tfrecord_list.sort()\n",
    "print(tfrecord_list)\n",
    "\n",
    "json_list = glob.glob(MY_DRIVE_PATH +'/' + FOLDER_NAME + '/' + '*.json')\n",
    "print(json_list)"
   ]
  },
  {
   "cell_type": "code",
   "execution_count": null,
   "metadata": {
    "id": "GS1rNwK32zyR"
   },
   "outputs": [],
   "source": [
    "with open(json_list[0], \"r\") as read_file:\n",
    "   mixer = json.load(read_file)\n",
    "\n",
    "mixer"
   ]
  },
  {
   "cell_type": "code",
   "execution_count": null,
   "metadata": {
    "id": "dNi0Q7yF4vMo"
   },
   "outputs": [],
   "source": [
    "patch_width = mixer['patchDimensions'][0]\n",
    "patch_height = mixer['patchDimensions'][1]\n",
    "patches = mixer['totalPatches']\n",
    "patch_dimensions_flat = [patch_width*patch_height, 1]\n",
    "\n",
    "image_columns = [\n",
    "                tf.io.FixedLenFeature(shape=patch_dimensions_flat, dtype=tf.float32) for k in BANDS\n",
    "]\n",
    "\n",
    "image_features_dict = dict(zip(BANDS, image_columns))\n",
    "\n",
    "image_dataset = tf.data.TFRecordDataset(tfrecord_list, compression_type='GZIP')\n"
   ]
  },
  {
   "cell_type": "code",
   "execution_count": null,
   "metadata": {
    "id": "6N5glJOH6n6r"
   },
   "outputs": [],
   "source": [
    "def parse_image(example_proto):\n",
    "  return tf.io.parse_single_example(example_proto, image_features_dict)"
   ]
  },
  {
   "cell_type": "code",
   "execution_count": null,
   "metadata": {
    "id": "cLzPjxt469t2"
   },
   "outputs": [],
   "source": [
    "image_dataset = image_dataset.map(parse_image, num_parallel_calls=5)\n",
    "\n",
    "image_dataset = image_dataset.flat_map(\n",
    "    lambda features: tf.data.Dataset.from_tensor_slices(features)\n",
    ")\n",
    "\n",
    "image_dataset = image_dataset.map(\n",
    "  lambda data_dict: (tf.transpose(list(data_dict.values())), )\n",
    ")\n",
    "\n",
    "image_dataset = image_dataset.batch(patch_width * patch_height)"
   ]
  },
  {
   "cell_type": "code",
   "execution_count": null,
   "metadata": {
    "id": "wrb_7arg7dHU"
   },
   "outputs": [],
   "source": [
    "predictions = model.predict(image_dataset, steps=patches, verbose=1)\n",
    "print(predictions[0])"
   ]
  },
  {
   "cell_type": "code",
   "execution_count": null,
   "metadata": {
    "id": "JLZ-xaCa7wth"
   },
   "outputs": [],
   "source": [
    "writer = tf.io.TFRecordWriter(OUTPUT_IMAGE_TFR)\n",
    "\n",
    "patch = [[]]\n",
    "cur_patch = 1\n",
    "for prediction in predictions:\n",
    "  patch[0].append(tf.argmax(prediction, 1))\n",
    "\n",
    "  if (len(patch[0])==patch_width*patch_height):\n",
    "    print('Done with Patch ' + str(cur_patch) + ' of ' + str(patches) + '...')\n",
    "    example = tf.train.Example(\n",
    "        features=tf.train.Features(\n",
    "            feature={\n",
    "                'prediction': tf.train.Feature(\n",
    "                    int64_list=tf.train.Int64List(\n",
    "                        value=patch[0]\n",
    "                    )\n",
    "                )\n",
    "            }\n",
    "        )\n",
    "    )\n",
    "\n",
    "    writer.write(example.SerializeToString())\n",
    "    patch=[[]]\n",
    "    cur_patch +=1\n",
    "  \n",
    "writer.close()"
   ]
  },
  {
   "cell_type": "code",
   "execution_count": null,
   "metadata": {
    "id": "RgMfcE4qBdIR"
   },
   "outputs": [],
   "source": [
    "record_iterator = tf.compat.v1.python_io.tf_record_iterator(path=OUTPUT_IMAGE_TFR)\n",
    "\n",
    "n_row = patches/mixer['patchesPerRow']\n",
    "n_col = mixer['patchesPerRow']\n",
    "current_row = 0\n",
    "current_col = 0\n",
    "counter = 0\n",
    "\n",
    "for string_record in record_iterator:\n",
    "  example = tf.train.Example()\n",
    "  example.ParseFromString(string_record)\n",
    "  values = np.array(example.features.feature['prediction'].int64_list.value).reshape(patch_width, patch_height).astype(np.int8)\n",
    "\n",
    "  if (current_col==0):\n",
    "    horizontal_strip = values\n",
    "  else:\n",
    "    horizontal_strip = np.concatenate([horizontal_strip, values], axis=1)\n",
    "  current_col += 1\n",
    "\n",
    "  if (current_col == n_col):\n",
    "    if (current_row==0):\n",
    "      image = horizontal_strip\n",
    "    else:\n",
    "      image = np.concatenate([image, horizontal_strip], axis=0)\n",
    "      horizontal_strip = []\n",
    "\n",
    "    current_row +=1\n",
    "    current_col = 0\n",
    "    print(counter)\n",
    "  counter +=1\n",
    "print(counter)"
   ]
  },
  {
   "cell_type": "code",
   "execution_count": null,
   "metadata": {
    "id": "SNbWNYBIEMaX"
   },
   "outputs": [],
   "source": [
    "imgplot = plt.imshow(image, cmap=plt.get_cmap('jet'), vmin=0, vmax=1)\n",
    "plt.show()"
   ]
  },
  {
   "cell_type": "code",
   "execution_count": null,
   "metadata": {
    "id": "5nzvw12lEXc8"
   },
   "outputs": [],
   "source": [
    "affine = mixer['projection']['affine']['doubleMatrix']\n",
    "geotransform = (affine[2], affine[0], affine[1], affine[5], affine[3], affine[4])\n",
    "crs = int(mixer['projection']['crs'][-4:])\n",
    "print(affine)\n",
    "print(geotransform)\n",
    "print(crs)"
   ]
  },
  {
   "cell_type": "code",
   "execution_count": null,
   "metadata": {
    "id": "PdAD6NJyFzdP"
   },
   "outputs": [],
   "source": [
    "ny, nx = image.shape\n",
    "dst_ds = gdal.GetDriverByName('GTiff').Create(OUTPUT_IMAGE_TIF, nx, ny, 1, gdal.GDT_Byte)\n",
    "dst_ds.SetGeoTransform(tuple(geotransform))\n",
    "srs = osr.SpatialReference()\n",
    "srs.ImportFromEPSG(crs)\n",
    "dst_ds.SetProjection(srs.ExportToWkt())\n",
    "dst_ds.GetRasterBand(1).WriteArray(image)\n",
    "dst_ds.FlushCache()\n",
    "dst_ds = None\n",
    "\n",
    "print(\"Exorting \" + OUTPUT_IMAGE_TIF + \" completed.\")"
   ]
  },
  {
   "cell_type": "code",
   "execution_count": null,
   "metadata": {
    "id": "L1eCb4yIlZcR"
   },
   "outputs": [],
   "source": [
    "fcc_image = out_image.select(landsat_params['FCCbands'])\n",
    "fcc_prefix = city_name + '_' + str(year_begin) + '_' + str(year_end)+'_fcc'\n",
    "\n",
    "fcc_task = ee.batch.Export.image.toDrive(**{\n",
    "    'image': fcc_image,\n",
    "    'description': fcc_prefix,\n",
    "    'folder': FOLDER_NAME,\n",
    "    'fileNamePrefix': fcc_prefix,\n",
    "    'scale': spatial_resolution,\n",
    "    'region': out_ext\n",
    "})\n",
    "fcc_task.start()"
   ]
  },
  {
   "cell_type": "code",
   "execution_count": null,
   "metadata": {
    "id": "o7jLFSe-nYHz"
   },
   "outputs": [],
   "source": [
    "while fcc_task.active():\n",
    "  print('Polling for task (id: {}).'.format(fcc_task.id))\n",
    "  time.sleep(20)\n",
    "print('Done with fcc image export.')"
   ]
  },
  {
   "cell_type": "code",
   "execution_count": null,
   "metadata": {
    "id": "Qi_6iYZeHclU"
   },
   "outputs": [],
   "source": [
    "time.sleep(20)\n",
    "drive.mount('/content/drive', force_remount=True)"
   ]
  },
  {
   "cell_type": "code",
   "execution_count": null,
   "metadata": {
    "id": "mZbpkBfh2rZ9"
   },
   "outputs": [],
   "source": [
    "lc_dir = MY_DRIVE_PATH + '/' + FOLDER_NAME + '/lc_map'\n",
    "fcc_path = MY_DRIVE_PATH + '/' + FOLDER_NAME + '/'+ fcc_prefix+'.tif'\n",
    "ref_dir = MY_DRIVE_PATH + '/' + FOLDER_NAME + '/ref_map'\n",
    "\n",
    "os.makedirs(lc_dir, exist_ok = True)\n",
    "os.makedirs(ref_dir, exist_ok = True)\n",
    "\n",
    "shutil.move(OUTPUT_IMAGE_TIF, lc_dir)\n",
    "shutil.move(OUTPUT_IMAGE_TFR, lc_dir)\n",
    "shutil.move(fcc_path, ref_dir)"
   ]
  },
  {
   "cell_type": "code",
   "execution_count": null,
   "metadata": {
    "id": "e5kyPo5tXKiC"
   },
   "outputs": [],
   "source": [
    "drive.mount('/content/drive', force_remount=True)\n",
    "shutil.move(FOLDER_PATH, SHARED_DRIVE_PATH)"
   ]
  }
 ],
 "metadata": {
  "colab": {
   "collapsed_sections": [],
   "include_colab_link": true,
   "name": "Landcover_using_ANN.ipynb",
   "provenance": []
  },
  "kernelspec": {
   "display_name": "py310",
   "language": "python",
   "name": "py310"
  },
  "language_info": {
   "codemirror_mode": {
    "name": "ipython",
    "version": 3
   },
   "file_extension": ".py",
   "mimetype": "text/x-python",
   "name": "python",
   "nbconvert_exporter": "python",
   "pygments_lexer": "ipython3",
   "version": "3.10.13"
  }
 },
 "nbformat": 4,
 "nbformat_minor": 4
}
